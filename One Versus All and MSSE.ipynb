{
  "metadata": {
    "kernelspec": {
      "language": "python",
      "display_name": "Python 3",
      "name": "python3"
    },
    "language_info": {
      "name": "python",
      "version": "3.10.13",
      "mimetype": "text/x-python",
      "codemirror_mode": {
        "name": "ipython",
        "version": 3
      },
      "pygments_lexer": "ipython3",
      "nbconvert_exporter": "python",
      "file_extension": ".py"
    },
    "kaggle": {
      "accelerator": "none",
      "dataSources": [],
      "dockerImageVersionId": 30698,
      "isInternetEnabled": true,
      "language": "python",
      "sourceType": "notebook",
      "isGpuEnabled": false
    },
    "colab": {
      "provenance": []
    }
  },
  "nbformat_minor": 0,
  "nbformat": 4,
  "cells": [
    {
      "cell_type": "markdown",
      "source": [
        "# Import Libraries"
      ],
      "metadata": {
        "editable": false,
        "id": "eo3B-tL_xbdQ"
      }
    },
    {
      "cell_type": "code",
      "source": [
        "import numpy as np\n",
        "from sklearn import datasets\n",
        "from sklearn.utils import shuffle"
      ],
      "metadata": {
        "editable": false,
        "trusted": true,
        "id": "CR7fWn5hxbdV"
      },
      "execution_count": 1,
      "outputs": []
    },
    {
      "cell_type": "markdown",
      "source": [
        "# Load Data"
      ],
      "metadata": {
        "editable": false,
        "id": "lCehyJmNxbdY"
      }
    },
    {
      "cell_type": "code",
      "source": [
        "# Load the IRIS dataset\n",
        "iris = datasets.load_iris()\n",
        "X = iris.data\n",
        "y = iris.target"
      ],
      "metadata": {
        "editable": false,
        "trusted": true,
        "id": "x7AVvnh_xbdY"
      },
      "execution_count": 2,
      "outputs": []
    },
    {
      "cell_type": "code",
      "source": [
        "np.unique(y)"
      ],
      "metadata": {
        "editable": false,
        "trusted": true,
        "colab": {
          "base_uri": "https://localhost:8080/"
        },
        "id": "dSef0D0ZxbdZ",
        "outputId": "ec7eba8f-d32f-4acd-b436-fb864bed87d0"
      },
      "execution_count": 3,
      "outputs": [
        {
          "output_type": "execute_result",
          "data": {
            "text/plain": [
              "array([0, 1, 2])"
            ]
          },
          "metadata": {},
          "execution_count": 3
        }
      ]
    },
    {
      "cell_type": "code",
      "source": [
        "y"
      ],
      "metadata": {
        "editable": false,
        "trusted": true,
        "colab": {
          "base_uri": "https://localhost:8080/"
        },
        "id": "juFQnSqZxbda",
        "outputId": "497d1ce4-5be7-4abd-d676-3e23916f5a0f"
      },
      "execution_count": 4,
      "outputs": [
        {
          "output_type": "execute_result",
          "data": {
            "text/plain": [
              "array([0, 0, 0, 0, 0, 0, 0, 0, 0, 0, 0, 0, 0, 0, 0, 0, 0, 0, 0, 0, 0, 0,\n",
              "       0, 0, 0, 0, 0, 0, 0, 0, 0, 0, 0, 0, 0, 0, 0, 0, 0, 0, 0, 0, 0, 0,\n",
              "       0, 0, 0, 0, 0, 0, 1, 1, 1, 1, 1, 1, 1, 1, 1, 1, 1, 1, 1, 1, 1, 1,\n",
              "       1, 1, 1, 1, 1, 1, 1, 1, 1, 1, 1, 1, 1, 1, 1, 1, 1, 1, 1, 1, 1, 1,\n",
              "       1, 1, 1, 1, 1, 1, 1, 1, 1, 1, 1, 1, 2, 2, 2, 2, 2, 2, 2, 2, 2, 2,\n",
              "       2, 2, 2, 2, 2, 2, 2, 2, 2, 2, 2, 2, 2, 2, 2, 2, 2, 2, 2, 2, 2, 2,\n",
              "       2, 2, 2, 2, 2, 2, 2, 2, 2, 2, 2, 2, 2, 2, 2, 2, 2, 2])"
            ]
          },
          "metadata": {},
          "execution_count": 4
        }
      ]
    },
    {
      "cell_type": "code",
      "source": [
        "# # Split Class I samples into 40 samples for train and 10 samples for test\n",
        "# X_train_I, X_test_I, y_train_I, y_test_I = train_test_split(X_class_I, y_class_I, train_size=40, test_size=10, random_state=42)"
      ],
      "metadata": {
        "editable": false,
        "id": "yPnSv320xbda"
      },
      "execution_count": 5,
      "outputs": []
    },
    {
      "cell_type": "markdown",
      "source": [
        "# Split Data"
      ],
      "metadata": {
        "editable": false,
        "id": "mB4QAMfPxbda"
      }
    },
    {
      "cell_type": "code",
      "source": [
        "def split_classI(X,y):\n",
        "    # Split Class I samples into 40 samples for training and 10 samples for testing\n",
        "    X_class1_train = X[y == 1][:40]\n",
        "    y_class1_train = y[y == 1][:40]\n",
        "    X_class1_test = X[y == 1][40:50]  # Select the next 10 samples after the first 40 for testing\n",
        "    y_class1_test = y[y == 1][40:50]  # Select the next 10 samples after the first 40 for testing\n",
        "\n",
        "    return X_class1_train , X_class1_test , y_class1_train , y_class1_test"
      ],
      "metadata": {
        "editable": false,
        "trusted": true,
        "id": "fS4O-cbKxbdb"
      },
      "execution_count": 6,
      "outputs": []
    },
    {
      "cell_type": "code",
      "source": [
        "def split_classII(X,y): #split other classes\n",
        "    #  Class II samples into 80 samples for training and 20 samples for testing\n",
        "    X_class2_train = X[y == -1][:80]\n",
        "    y_class2_train = y[y == -1][:80]\n",
        "    X_class2_test = X[y == -1][80:100]  # Select the next 20 samples after the first 80 for testing\n",
        "    y_class2_test = y[y == -1][80:100]  # Select the next 20 samples after the first 80 for testing\n",
        "\n",
        "    return X_class2_train , X_class2_test , y_class2_train , y_class2_test"
      ],
      "metadata": {
        "editable": false,
        "trusted": true,
        "id": "tnTzl39jxbdc"
      },
      "execution_count": 7,
      "outputs": []
    },
    {
      "cell_type": "markdown",
      "source": [
        "# Concatenate Data"
      ],
      "metadata": {
        "editable": false,
        "id": "gS-Y4L-ixbdf"
      }
    },
    {
      "cell_type": "code",
      "source": [
        "# Train a linear classifier model using the Least Squares Technique (MSSE)\n",
        "# Concatenate the training data from both classes\n",
        "def concatenate_train(X_class1_train,X_class2_train,y_class1_train,y_class2_train):\n",
        "\n",
        "    X_train = np.concatenate((X_class1_train, X_class2_train), axis=0)\n",
        "    y_train = np.concatenate((y_class1_train, y_class2_train), axis=0)\n",
        "#     print(\"concate\",y_train.shape)\n",
        "    X_train, y_train = shuffle(X_train, y_train)\n",
        "\n",
        "\n",
        "    return X_train , y_train"
      ],
      "metadata": {
        "editable": false,
        "trusted": true,
        "id": "_qCwCgJ8xbdg"
      },
      "execution_count": 8,
      "outputs": []
    },
    {
      "cell_type": "code",
      "source": [
        "# Concatenate the training data from both classes\n",
        "def concatenate_test(X_class1_test,X_class2_test,y_class1_test,y_class2_test):\n",
        "    X_test = np.concatenate((X_class1_test, X_class2_test), axis=0)\n",
        "    y_test = np.concatenate((y_class1_test, y_class2_test), axis=0)\n",
        "    X_test, y_test = shuffle(X_test, y_test)\n",
        "\n",
        "    return X_test , y_test"
      ],
      "metadata": {
        "editable": false,
        "trusted": true,
        "id": "zXYDoPKuxbdi"
      },
      "execution_count": 9,
      "outputs": []
    },
    {
      "cell_type": "markdown",
      "source": [
        "# MSSE"
      ],
      "metadata": {
        "editable": false,
        "id": "Y9KnB3yzxbdj"
      }
    },
    {
      "cell_type": "code",
      "source": [
        "def MSSE(X_train,X_test,y_train):\n",
        "        # Perform Least Squares Technique (MSSE)\n",
        "    X_train = np.concatenate((X_train, np.ones((X_train.shape[0], 1))), axis=1)  # Add bias term\n",
        "\n",
        "    # Compute weights using MSSE\n",
        "    weights = np.linalg.inv(X_train.T @ X_train) @ X_train.T @ y_train\n",
        "\n",
        "    # Perform predictions on the test data\n",
        "    X_test = np.concatenate((X_test, np.ones((X_test.shape[0], 1))), axis=1)  # Add bias term\n",
        "    predictions = np.dot(X_test, weights)  # Dot product to get predictions\n",
        "\n",
        "    return predictions , weights\n"
      ],
      "metadata": {
        "editable": false,
        "trusted": true,
        "id": "Yhc1RgTExbdm"
      },
      "execution_count": 10,
      "outputs": []
    },
    {
      "cell_type": "code",
      "source": [
        "def prediction(predictions):\n",
        "        # Convert predictions to Positive (Class I) and Negative (Other classes)\n",
        "    predictions[predictions > 0] = 1  # Class I\n",
        "    predictions[predictions <= 0] = -1  # Other classes\n",
        "    return predictions"
      ],
      "metadata": {
        "editable": false,
        "trusted": true,
        "id": "hU658MeJxbdn"
      },
      "execution_count": 11,
      "outputs": []
    },
    {
      "cell_type": "code",
      "source": [
        "def print_results(weights,predictions,y_test):\n",
        "    # Print the weights\n",
        "    print(\"Weights:\", weights)\n",
        "\n",
        "    # Print the predictions\n",
        "    print(\"Predictions:\", predictions)\n",
        "    print(\"Actual :\", y_test)"
      ],
      "metadata": {
        "editable": false,
        "trusted": true,
        "id": "bQYnn1Zrxbdn"
      },
      "execution_count": 12,
      "outputs": []
    },
    {
      "cell_type": "code",
      "source": [
        "def accuracy(predictions,y_test):\n",
        "    # Calculate the accuracy\n",
        "    accuracy = np.mean(predictions == y_test) * 100\n",
        "\n",
        "    # Print the accuracy\n",
        "    print(\"Accuracy:\", accuracy, \"%\")"
      ],
      "metadata": {
        "editable": false,
        "trusted": true,
        "id": "biPgD9q8xbdo"
      },
      "execution_count": 13,
      "outputs": []
    },
    {
      "cell_type": "markdown",
      "source": [
        " # Run"
      ],
      "metadata": {
        "editable": false,
        "id": "OY4USaTGxbdo"
      }
    },
    {
      "cell_type": "code",
      "source": [
        "def run(y):\n",
        "    X_class1_train , X_class1_test , y_class1_train , y_class1_test = split_classI(X,y)\n",
        "    X_class2_train , X_class2_test , y_class2_train , y_class2_test = split_classII(X,y)\n",
        "    X_train , y_train = concatenate_train(X_class1_train,X_class2_train,y_class1_train,y_class2_train)\n",
        "    X_test,y_test = concatenate_test(X_class1_test,X_class2_test,y_class1_test,y_class2_test)\n",
        "#     print(len(y_class1_test)+len(y_class2_test))\n",
        "#     print(len(y_class1_train)+len(y_class2_train))\n",
        "    predictio , weights = MSSE(X_train,X_test,y_train)\n",
        "    predictions = prediction(predictio)\n",
        "    print_results(weights,predictions,y_test)\n",
        "    accuracy(predictions,y_test)"
      ],
      "metadata": {
        "editable": false,
        "trusted": true,
        "id": "IxF3SAjuxbdo"
      },
      "execution_count": 14,
      "outputs": []
    },
    {
      "cell_type": "code",
      "source": [
        "# Sample data\n",
        "# Define the number of classes\n",
        "num_classes = len(np.unique(y))\n",
        "num_classes\n",
        "\n",
        "# Perform one-versus-all transformation\n",
        "for i in range(num_classes):\n",
        "    y_temp = np.copy(y)\n",
        "    y_temp[y_temp != i] = -1  # Set all classes except the current one to -1\n",
        "    y_temp[y_temp == i] = 1    # Set the current class to 1\n",
        "    print(f\"Iteration {i+1}: {y_temp}\")\n",
        "    print(\"------------------------------------------------------------------------------------------\")# Print the transformed labels for the current iteration\n",
        "    print(f\"this is call:{i+1}\")\n",
        "    run(y_temp)\n",
        "    print(\"\\n\" * 5)"
      ],
      "metadata": {
        "editable": false,
        "trusted": true,
        "colab": {
          "base_uri": "https://localhost:8080/"
        },
        "id": "OwMkopkoxbdo",
        "outputId": "bb553a6a-6dcc-4cc3-f91e-808e1acd773c"
      },
      "execution_count": 15,
      "outputs": [
        {
          "output_type": "stream",
          "name": "stdout",
          "text": [
            "Iteration 1: [ 1  1  1  1  1  1  1  1  1  1  1  1  1  1  1  1  1  1  1  1  1  1  1  1\n",
            "  1  1  1  1  1  1  1  1  1  1  1  1  1  1  1  1  1  1  1  1  1  1  1  1\n",
            "  1  1 -1 -1 -1 -1 -1 -1 -1 -1 -1 -1 -1 -1 -1 -1 -1 -1 -1 -1 -1 -1 -1 -1\n",
            " -1 -1 -1 -1 -1 -1 -1 -1 -1 -1 -1 -1 -1 -1 -1 -1 -1 -1 -1 -1 -1 -1 -1 -1\n",
            " -1 -1 -1 -1 -1 -1 -1 -1 -1 -1 -1 -1 -1 -1 -1 -1 -1 -1 -1 -1 -1 -1 -1 -1\n",
            " -1 -1 -1 -1 -1 -1 -1 -1 -1 -1 -1 -1 -1 -1 -1 -1 -1 -1 -1 -1 -1 -1 -1 -1\n",
            " -1 -1 -1 -1 -1 -1]\n",
            "------------------------------------------------------------------------------------------\n",
            "this is call:1\n",
            "Weights: [ 0.09671893  0.55010758 -0.38063095 -0.23201664 -0.90873244]\n",
            "Predictions: [-1.  1.  1. -1. -1. -1. -1. -1.  1. -1. -1.  1. -1. -1. -1. -1.  1. -1.\n",
            " -1.  1. -1. -1. -1.  1.  1.  1. -1. -1. -1.  1.]\n",
            "Actual : [-1  1  1 -1 -1 -1 -1 -1  1 -1 -1  1 -1 -1 -1 -1  1 -1 -1  1 -1 -1 -1  1\n",
            "  1  1 -1 -1 -1  1]\n",
            "Accuracy: 100.0 %\n",
            "\n",
            "\n",
            "\n",
            "\n",
            "\n",
            "\n",
            "Iteration 2: [-1 -1 -1 -1 -1 -1 -1 -1 -1 -1 -1 -1 -1 -1 -1 -1 -1 -1 -1 -1 -1 -1 -1 -1\n",
            " -1 -1 -1 -1 -1 -1 -1 -1 -1 -1 -1 -1 -1 -1 -1 -1 -1 -1 -1 -1 -1 -1 -1 -1\n",
            " -1 -1  1  1  1  1  1  1  1  1  1  1  1  1  1  1  1  1  1  1  1  1  1  1\n",
            "  1  1  1  1  1  1  1  1  1  1  1  1  1  1  1  1  1  1  1  1  1  1  1  1\n",
            "  1  1  1  1 -1 -1 -1 -1 -1 -1 -1 -1 -1 -1 -1 -1 -1 -1 -1 -1 -1 -1 -1 -1\n",
            " -1 -1 -1 -1 -1 -1 -1 -1 -1 -1 -1 -1 -1 -1 -1 -1 -1 -1 -1 -1 -1 -1 -1 -1\n",
            " -1 -1 -1 -1 -1 -1]\n",
            "------------------------------------------------------------------------------------------\n",
            "this is call:2\n",
            "Weights: [ 0.06454964 -0.82607428  0.39430598 -0.84813608  1.38171696]\n",
            "Predictions: [-1. -1.  1.  1. -1.  1. -1.  1. -1. -1. -1. -1. -1. -1.  1. -1. -1. -1.\n",
            " -1. -1. -1. -1. -1.  1. -1.  1.  1. -1. -1. -1.]\n",
            "Actual : [-1 -1 -1 -1 -1  1 -1 -1 -1  1 -1 -1 -1 -1  1 -1 -1  1 -1  1  1  1 -1  1\n",
            "  1 -1  1 -1 -1 -1]\n",
            "Accuracy: 66.66666666666666 %\n",
            "\n",
            "\n",
            "\n",
            "\n",
            "\n",
            "\n",
            "Iteration 3: [-1 -1 -1 -1 -1 -1 -1 -1 -1 -1 -1 -1 -1 -1 -1 -1 -1 -1 -1 -1 -1 -1 -1 -1\n",
            " -1 -1 -1 -1 -1 -1 -1 -1 -1 -1 -1 -1 -1 -1 -1 -1 -1 -1 -1 -1 -1 -1 -1 -1\n",
            " -1 -1 -1 -1 -1 -1 -1 -1 -1 -1 -1 -1 -1 -1 -1 -1 -1 -1 -1 -1 -1 -1 -1 -1\n",
            " -1 -1 -1 -1 -1 -1 -1 -1 -1 -1 -1 -1 -1 -1 -1 -1 -1 -1 -1 -1 -1 -1 -1 -1\n",
            " -1 -1 -1 -1  1  1  1  1  1  1  1  1  1  1  1  1  1  1  1  1  1  1  1  1\n",
            "  1  1  1  1  1  1  1  1  1  1  1  1  1  1  1  1  1  1  1  1  1  1  1  1\n",
            "  1  1  1  1  1  1]\n",
            "------------------------------------------------------------------------------------------\n",
            "this is call:3\n",
            "Weights: [-0.34407625  0.4827274   0.31102309  0.66179682 -1.67494722]\n",
            "Predictions: [ 1. -1.  1. -1.  1. -1.  1.  1.  1. -1. -1. -1.  1. -1.  1.  1. -1. -1.\n",
            "  1. -1. -1. -1.  1. -1.  1.  1. -1. -1. -1.  1.]\n",
            "Actual : [ 1 -1 -1 -1  1 -1  1 -1  1 -1 -1 -1 -1 -1  1  1 -1 -1  1 -1 -1 -1  1 -1\n",
            "  1  1 -1 -1 -1 -1]\n",
            "Accuracy: 86.66666666666667 %\n",
            "\n",
            "\n",
            "\n",
            "\n",
            "\n",
            "\n"
          ]
        }
      ]
    }
  ]
}